{
 "cells": [
  {
   "cell_type": "markdown",
   "id": "427ce937",
   "metadata": {},
   "source": [
    "# Business Problem\n",
    "How to split mulitple rows into separate rows by reading the new line from each cell. The code below splits the excel cell into different rows as per the given data. \n",
    "\n",
    "How to split multiple rows/lines in one cell to multiple cells:\n",
    "Notes:\n",
    "Step1. Convert datetime into string"
   ]
  },
  {
   "cell_type": "code",
   "execution_count": 188,
   "id": "30962427",
   "metadata": {},
   "outputs": [],
   "source": [
    "# Uploading Libraries\n",
    "import pandas as pd\n",
    "import numpy as np\n",
    "import string as str\n",
    "\n",
    "# Uploading data\n",
    "df = pd.read_excel(\"G:/My Drive/Ashish/Upwork Projects/2022/North America/USA/We Scope/Rev_Analysis_1.xlsx\")"
   ]
  },
  {
   "cell_type": "code",
   "execution_count": 189,
   "id": "ac576f67",
   "metadata": {},
   "outputs": [],
   "source": [
    "# Step1\n",
    "df['Date Received'] = df['Date Received'].dt.strftime('%Y-%m-%d')"
   ]
  },
  {
   "cell_type": "code",
   "execution_count": 190,
   "id": "2d252bb7",
   "metadata": {},
   "outputs": [],
   "source": [
    "# Adding the column to the data after applying the lambda function. In this case the lambda function is helping us strip the columns and fill space in the cells with Blanks\n",
    "\n",
    "df2 = df[['Client', 'CompletedBy', 'Insurance Carrier', 'Notes', 'Managed Repair Program',\n",
    "       'Date Received', 'Job','Revision Type', 'Task Type',\n",
    "       'unique id']].apply(lambda x: x.str.strip()).fillna('Blank')\n",
    "\n",
    "# df2.to_csv('G:/My Drive/Ashish/Upwork Projects/2022/North America/USA/We Scope/Rev_Analysis_ORG_print1.csv')"
   ]
  },
  {
   "cell_type": "code",
   "execution_count": 191,
   "id": "9cb51072",
   "metadata": {},
   "outputs": [],
   "source": [
    "# Step 2\n",
    "\n",
    "res = df2.set_index(['Client', 'CompletedBy', 'Insurance Carrier', 'Managed Repair Program',\n",
    "       'Date Received', 'Job','Revision Type', 'Task Type',\n",
    "       'unique id']).apply(lambda x: x.str.split('\\n').explode()).reset_index()\n",
    "res.to_csv('G:/My Drive/Ashish/Upwork Projects/2022/North America/USA/We Scope/am_expo_d.csv')"
   ]
  },
  {
   "cell_type": "code",
   "execution_count": 192,
   "id": "a1fb6010",
   "metadata": {},
   "outputs": [
    {
     "name": "stderr",
     "output_type": "stream",
     "text": [
      "C:\\Users\\ashis\\AppData\\Local\\Temp\\ipykernel_14668\\57253793.py:3: FutureWarning: The default value of regex will change from True to False in a future version.\n",
      "  res['Notes'] = res['Notes'].str.replace('[-,=]', '')\n"
     ]
    }
   ],
   "source": [
    "data_clean = res[(res['Notes'] == 'REV') | (res['Notes'] == '')].index\n",
    "res.drop(data_clean,inplace=True)\n",
    "res['Notes'] = res['Notes'].str.replace('[-,=]', '')"
   ]
  },
  {
   "cell_type": "code",
   "execution_count": 81,
   "id": "ccc7eab6",
   "metadata": {},
   "outputs": [],
   "source": [
    "# res['new'] = res['Notes'].str.contains('Photo',False,regex=True)\n",
    "# res[res['Notes'].str.contains('\\d+')]"
   ]
  },
  {
   "cell_type": "code",
   "execution_count": 193,
   "id": "bdf2894c",
   "metadata": {},
   "outputs": [],
   "source": [
    "res['new'] = res['Notes'].str.isnumeric()\n",
    "\n",
    "# res.drop(data_clean,inplace=False)\n",
    "# res.to_csv('G:/My Drive/Ashish/Upwork Projects/2022/North America/USA/We Scope/Rev_Analysis_ORG_AM1.csv')\n"
   ]
  },
  {
   "cell_type": "code",
   "execution_count": 187,
   "id": "f5d6c8a7",
   "metadata": {},
   "outputs": [],
   "source": [
    "# df[\"Notes\"].str.split('\\n',expand=True)\n",
    "res.to_csv('G:/My Drive/Ashish/Upwork Projects/2022/North America/USA/We Scope/am_expo44.csv')"
   ]
  },
  {
   "cell_type": "code",
   "execution_count": 104,
   "id": "6745959a",
   "metadata": {},
   "outputs": [],
   "source": [
    "# df.to_csv(\"G:/My Drive/Ashish/Upwork Projects/2022/North America/USA/We Scope/df.csv\")\n",
    "\n",
    "# df[['key.0','key.1','key.2']] = df['The Data'].str.split(',', expand=True)\n",
    "# df.drop(columns=['The Data'], inplace = True)\n",
    "# stop here if you want the data to be split into new columns"
   ]
  },
  {
   "cell_type": "code",
   "execution_count": 58,
   "id": "bea7e537",
   "metadata": {},
   "outputs": [
    {
     "data": {
      "text/plain": [
       "2        False\n",
       "4        False\n",
       "6        False\n",
       "8        False\n",
       "10       False\n",
       "         ...  \n",
       "50217     True\n",
       "50219    False\n",
       "50221    False\n",
       "50223    False\n",
       "50225    False\n",
       "Name: Notes, Length: 33085, dtype: bool"
      ]
     },
     "execution_count": 58,
     "metadata": {},
     "output_type": "execute_result"
    }
   ],
   "source": [
    "res['Notes'].str.contains(\"Upload\",False,regex=True)"
   ]
  },
  {
   "cell_type": "code",
   "execution_count": 128,
   "id": "7b27f193",
   "metadata": {},
   "outputs": [],
   "source": [
    "# df['Notes'].str.contains('Upload',False,regex=True)\n",
    "# df[\"Notes\"].str.split('\\n',expand=True)\n",
    "# For creating column refer - https://www.geeksforgeeks.org/add-column-names-to-dataframe-in-pandas/\n"
   ]
  },
  {
   "cell_type": "code",
   "execution_count": 16,
   "id": "01438c36",
   "metadata": {},
   "outputs": [],
   "source": [
    "text = df[\"Notes\"]"
   ]
  },
  {
   "cell_type": "code",
   "execution_count": 18,
   "id": "0abffe59",
   "metadata": {},
   "outputs": [
    {
     "name": "stdout",
     "output_type": "stream",
     "text": [
      "0       REV\\n\\n1) Program instructions require photos ...\n",
      "1       REV\\n\\nClient Sergio - Frank please address th...\n",
      "2       REV\\n\\n1. Please upload work auth.\\n2. Please ...\n",
      "3       REV\\n\\n12. Line item 47 WTR EQ: revise qty to ...\n",
      "4       REV\\n\\n1. Price Deviations Exist. Please Revis...\n",
      "                              ...                        \n",
      "4656    Carrier - XA\\n\\nHi Gustavo,\\n\\nMember found su...\n",
      "4657    Client Curtis - *SLA - due 11/8/22 @ 2:00pm* P...\n",
      "4658    SYM - \\n2. Please add name of CRS who approved...\n",
      "4659    MICA report with completion date has been uplo...\n",
      "4660                                                  NaN\n",
      "Name: Notes, Length: 4661, dtype: object\n"
     ]
    }
   ],
   "source": [
    "print(text)"
   ]
  },
  {
   "cell_type": "code",
   "execution_count": 69,
   "id": "db6d060b",
   "metadata": {},
   "outputs": [],
   "source": [
    "import re"
   ]
  },
  {
   "cell_type": "code",
   "execution_count": 82,
   "id": "33a070e7",
   "metadata": {},
   "outputs": [],
   "source": [
    "def ashish_fun(text):\n",
    "    my_text =\"\"\n",
    "    text = text.replace('\\n',\"\")\n",
    "    text = text.replace('REV',\"\")\n",
    "    split_text = text.split(\".\")  # ['I', 'need', 'practice']\n",
    "    for line in split_text:\n",
    "        if \"photo\" in line:\n",
    "            my_text = my_text + line + \",\"\n",
    "    return my_text\n",
    "df[\"Notes_1\"]=df['Notes'].apply(lambda text: ashish_fun(str(text)))"
   ]
  },
  {
   "cell_type": "code",
   "execution_count": 83,
   "id": "baf792ca",
   "metadata": {},
   "outputs": [
    {
     "data": {
      "text/plain": [
       "'1) Program instructions require photos showing what the contractor observed to be the cause of damage, Please provide/label required photos,2) Lines 1, 3 and 35: scope/quantities included unclear based on photos and information provided,'"
      ]
     },
     "execution_count": 83,
     "metadata": {},
     "output_type": "execute_result"
    }
   ],
   "source": [
    "df[\"Notes_1\"][0]"
   ]
  },
  {
   "cell_type": "code",
   "execution_count": 14,
   "id": "a89444ee",
   "metadata": {},
   "outputs": [
    {
     "name": "stdout",
     "output_type": "stream",
     "text": [
      "1.Photos and/or documentation appear to support that line items written at PF dimensions have not been deducted by LF of doors, showers/tubs, vanities, cabinets, built-ins/bookcases, etc. Please revise accordingly.\n",
      "\n",
      "2.Program instructions state, photos in each room listed in the estimate should be taken from corner to corner.  Please provide required photos.  If the required situational parameters are met (per 2/1/21 network communication), YouGoLook (YGL) is an approved option for obtaining the photo(s) without having to return to the loss site. To set up an account, please go to tinyurl.com/8bxii7xv. For more information on the app and its benefits, please go to tinyurl.com/3kws7xwz.\n"
     ]
    }
   ],
   "source": [
    "my_text = '1.Photos and/or documentation appear to support that line items written at PF dimensions have not been deducted by LF of doors, showers/tubs, vanities, cabinets, built-ins/bookcases, etc. Please revise accordingly.\\n\\n2.Program instructions state, photos in each room listed in the estimate should be taken from corner to corner.  Please provide required photos.  If the required situational parameters are met (per 2/1/21 network communication), YouGoLook (YGL) is an approved option for obtaining the photo(s) without having to return to the loss site. To set up an account, please go to tinyurl.com/8bxii7xv. For more information on the app and its benefits, please go to tinyurl.com/3kws7xwz.'\n",
    "\n",
    "print (my_text)"
   ]
  }
 ],
 "metadata": {
  "kernelspec": {
   "display_name": "Python 3 (ipykernel)",
   "language": "python",
   "name": "python3"
  },
  "language_info": {
   "codemirror_mode": {
    "name": "ipython",
    "version": 3
   },
   "file_extension": ".py",
   "mimetype": "text/x-python",
   "name": "python",
   "nbconvert_exporter": "python",
   "pygments_lexer": "ipython3",
   "version": "3.9.12"
  }
 },
 "nbformat": 4,
 "nbformat_minor": 5
}
